{
 "cells": [
  {
   "cell_type": "markdown",
   "id": "victorian-validation",
   "metadata": {},
   "source": [
    "All three tutorials are jupyter notebooks, and therefore in order to be able to run the code, you have to install that beforehand. Please make sure to have the most recent version of the Jupyter Notebook to be compatible with our code.\n",
    "<br>\n",
    "\n",
    "Follow the instructions here https://jupyter.org/install to install jupyter notebook. If you are a Windows user, you can also follow the instructions here https://www.geeksforgeeks.org/how-to-install-jupyter-notebook-in-windows/ (Using Anaconda is recommended).\n",
    "\n",
    "\n",
    "Also download the Mumsnet data https://osf.io/974fc/?view_only=a1b5afe488db4014b3f21ed808bcceb9 and Reddit data https://osf.io/qp6cs/?view_only=a1b5afe488db4014b3f21ed808bcceb9 and copy and paste in ./data folder.\n",
    "\n",
    "\n",
    "Now you have jupyter notebook installed, make sure to run all the code blocks and open this file. The goal of this part is to familiarize you with some basic Python syntax. Please note that we would not teach Python in our live tutorials and we assume that everyone has a basic knowledge of python. \n",
    "\n",
    "Here we would go through some of the most common python instructions we would use in our live tutorials. It worth mentioning that you are not supposed to remember the exact syntax of the code, and the objective of this tutorial is just to familiarize yourself with the most used commands in our tutorials.\n"
   ]
  },
  {
   "cell_type": "markdown",
   "id": "coordinated-antibody",
   "metadata": {},
   "source": [
    "###### what is python library?\n",
    "\n",
    "Python library is a collection of modules that allows you to perform lots of actions without writing your own code. For example, when you are working with data, numpy, sklearn, pandas, etc. are the most commonly used libraries that facilitates functions such as reading data from file, performing various operations on data, ..\n",
    "\n",
    "\n",
    "###### Pandas\n",
    "Before using a library module, we have to 'import' it to our python program. For example, here we import 'pandas' module which is for data manipulation and analysis."
   ]
  },
  {
   "cell_type": "code",
   "execution_count": null,
   "id": "accessible-private",
   "metadata": {},
   "outputs": [],
   "source": [
    "import pandas as pd"
   ]
  },
  {
   "cell_type": "markdown",
   "id": "australian-context",
   "metadata": {},
   "source": [
    "here, we use it to read data files by passing the address of the file, which is called dataframe:"
   ]
  },
  {
   "cell_type": "code",
   "execution_count": null,
   "id": "roman-penalty",
   "metadata": {},
   "outputs": [],
   "source": [
    "df = pd.read_csv('./preprocessing/sample_raw_data/sample.csv')"
   ]
  },
  {
   "cell_type": "markdown",
   "id": "trying-geography",
   "metadata": {},
   "source": [
    "let's take a look at the dataframe df by showing its first 10 rows:"
   ]
  },
  {
   "cell_type": "code",
   "execution_count": null,
   "id": "meaningful-federal",
   "metadata": {},
   "outputs": [],
   "source": [
    "df.head(10)"
   ]
  },
  {
   "cell_type": "markdown",
   "id": "periodic-mortgage",
   "metadata": {},
   "source": [
    "print shape of the dataframe and its list of features:"
   ]
  },
  {
   "cell_type": "code",
   "execution_count": null,
   "id": "third-taiwan",
   "metadata": {},
   "outputs": [],
   "source": [
    "print(df.shape)\n",
    "print(list(df))\n"
   ]
  },
  {
   "cell_type": "markdown",
   "id": "weekly-provision",
   "metadata": {},
   "source": [
    "selecting a specific column of our dataframe:"
   ]
  },
  {
   "cell_type": "code",
   "execution_count": null,
   "id": "perceived-energy",
   "metadata": {},
   "outputs": [],
   "source": [
    "df['body']"
   ]
  },
  {
   "cell_type": "markdown",
   "id": "disciplinary-patrol",
   "metadata": {},
   "source": [
    "<br>\n",
    "\n",
    "###### some basic operations\n",
    "\n",
    "here we go thorugh some of the basic python operations, such as loop , and if else statement.\n",
    "\n",
    "\n",
    "\n",
    "<br>\n",
    "The for loop sytanx is used to iterate over a sequence (list, tuple, string) or other iterable objects."
   ]
  },
  {
   "cell_type": "code",
   "execution_count": null,
   "id": "thorough-berry",
   "metadata": {},
   "outputs": [],
   "source": [
    "slist = [1, 4, 7, 3, 2]\n",
    "for item in slist:\n",
    "    print(item)"
   ]
  },
  {
   "cell_type": "markdown",
   "id": "integral-settlement",
   "metadata": {},
   "source": [
    "An if else sytanx evaluates whether an expression is true or false. If a condition is true, the “if” statement executes. Otherwise, the “else” statement executes:"
   ]
  },
  {
   "cell_type": "code",
   "execution_count": null,
   "id": "impressed-yield",
   "metadata": {},
   "outputs": [],
   "source": [
    "for item in slist:\n",
    "    if item > 3:\n",
    "        print(item)\n",
    "    else:\n",
    "        print('Failed')"
   ]
  },
  {
   "cell_type": "markdown",
   "id": "random-gazette",
   "metadata": {},
   "source": [
    "<br>\n",
    "\n",
    "###### function\n",
    "A function is a block of code that is used to perform a single or several actions. It only runs when it is called. You can pass data, known as parameters, into a function.\n",
    "\n",
    "For example, here we define a function to print the 'body' of each row of our dataframe:"
   ]
  },
  {
   "cell_type": "code",
   "execution_count": null,
   "id": "resistant-wrestling",
   "metadata": {},
   "outputs": [],
   "source": [
    "def printbody(df):\n",
    "    for i, row in df.iterrows():\n",
    "        print(row['body'])"
   ]
  },
  {
   "cell_type": "code",
   "execution_count": null,
   "id": "located-windsor",
   "metadata": {},
   "outputs": [],
   "source": [
    "printbody(df)"
   ]
  },
  {
   "cell_type": "markdown",
   "id": "medium-producer",
   "metadata": {},
   "source": [
    "<br>\n",
    "\n",
    "###### Logistic Regression\n",
    "Logistic regression is a supervised learning classification algorithm used to predict the probability of a target variable. Mathematically, a logistic regression model predicts P(Y=1) as a function of X (Y is the depandant variable which could be 0 or 1, and X is a set of independant variables). It is one of the simplest ML algorithms that can be used for various classification problems such as spam detection, Diabetes prediction, cancer detection etc.\n",
    "\n",
    "\n",
    "Here, we provide you an example of how to use logistic regression to model your data. This sample contains 120 data points which each has two independant variables x1 and x2 (or input variables) and dependant variable y (or outcome variable). The goal is to use the data points to create a predictive model of the outcome variable.\n",
    "\n",
    "\n",
    "<br>\n",
    "\n",
    "First, read the data file:"
   ]
  },
  {
   "cell_type": "code",
   "execution_count": null,
   "id": "enclosed-norway",
   "metadata": {},
   "outputs": [],
   "source": [
    "df = pd.read_csv('./data/lgr_sample.csv')\n",
    "df"
   ]
  },
  {
   "cell_type": "markdown",
   "id": "cheap-fabric",
   "metadata": {},
   "source": [
    "as an optional step, we plot our data ponits to get a betterunderestanding of our data."
   ]
  },
  {
   "cell_type": "code",
   "execution_count": null,
   "id": "numerous-stuart",
   "metadata": {},
   "outputs": [],
   "source": [
    "\n",
    "import matplotlib.pyplot as plt\n",
    "import numpy as np\n",
    "\n",
    "# separating the datapoint based on their outcome variable\n",
    "\n",
    "# data points with the outcome variable 0 (y=0) \n",
    "x_1 = df.loc[df.y==0][['x1', 'x2']].values\n",
    "# data points with the outcome variable 1 (y=1) \n",
    "x_2 = df.loc[df.y==1][['x1', 'x2']].values\n",
    "\n",
    "\n",
    "\n",
    "# plotting data points with diff color for diff label\n",
    "plt.scatter([x_1[:, 0]], [x_1[:, 1]], c='b', label='y = 0')\n",
    "plt.scatter([x_2[:, 0]], [x_2[:, 1]], c='r', label='y = 1')\n",
    "\n",
    "\n",
    "\n",
    "plt.xlabel(\"x1\",fontsize=15)\n",
    "plt.ylabel(\"x2\",fontsize=15)\n",
    "plt.xticks(fontsize=14)\n",
    "plt.yticks(fontsize=14)\n",
    "plt.legend()\n",
    "plt.show()"
   ]
  },
  {
   "cell_type": "markdown",
   "id": "qualified-bathroom",
   "metadata": {},
   "source": [
    "As you can see, your data point (red and blue) are kind of separated from each other. The goal of the logistic regression is to find a model that can separate them from each other based on the indepandant variables.\n",
    "\n",
    "<br>\n",
    "\n",
    "Now, we want to train our logistic regression model. The first step is to split the dataset into two sets of training set and test set. Using the training set we are learning the model, and using the test set we are evaluating the performance of our model to see how accurate would it perform when it comes to unseen data.\n"
   ]
  },
  {
   "cell_type": "code",
   "execution_count": null,
   "id": "composite-criminal",
   "metadata": {},
   "outputs": [],
   "source": [
    "\n",
    "from sklearn.linear_model import LogisticRegression\n",
    "from sklearn.model_selection import train_test_split\n",
    "from sklearn.metrics import roc_auc_score, accuracy_score\n",
    "from sklearn.metrics import plot_roc_curve\n",
    "\n",
    "\n",
    "X = df[['x1', 'x2']].to_numpy()\n",
    "y = df['y'].to_numpy()\n",
    "\n",
    "\n",
    "\n",
    "# splitting train and test sets\n",
    "X_train, X_test, y_train, y_test = train_test_split(X, y, test_size=0.33, random_state=42)\n",
    "\n",
    "\n",
    "# training the logistic regression model\n",
    "model = LogisticRegression(random_state=0).fit(X_train, y_train)"
   ]
  },
  {
   "cell_type": "markdown",
   "id": "mighty-electron",
   "metadata": {},
   "source": [
    "To get a better underestanding of how logistic regression modeled our data, we plot the data points along with the decision boundary of our trained model (you don't need to underestand what each command does in this block of the code)."
   ]
  },
  {
   "cell_type": "code",
   "execution_count": null,
   "id": "noted-hepatitis",
   "metadata": {},
   "outputs": [],
   "source": [
    "# Plot the decision boundary. For that, we will assign a color to each\n",
    "\n",
    "x_min, x_max = X[:, 0].min() - 1, X[:, 0].max() + 1\n",
    "y_min, y_max = X[:, 1].min() - 1, X[:, 1].max() + 1\n",
    "\n",
    "\n",
    "# Meshgrid creation\n",
    "h = .02 \n",
    "xx, yy = np.meshgrid(np.arange(x_min, x_max, h), np.arange(y_min, y_max, h))\n",
    "\n",
    "# Obtain labels for each point in mesh using the model.\n",
    "Z = model.predict(np.c_[xx.ravel(), yy.ravel()])    \n",
    "\n",
    "x_min, x_max = X[:, 0].min() - 1, X[:, 0].max() + 1\n",
    "y_min, y_max = X[:, 1].min() - 1, X[:, 1].max() + 1\n",
    "xx, yy = np.meshgrid(np.arange(x_min, x_max, 0.1),\n",
    "                     np.arange(y_min, y_max, 0.1))\n",
    "\n",
    "# Predictions to obtain the classification results\n",
    "Z = model.predict(np.c_[xx.ravel(), yy.ravel()]).reshape(xx.shape)\n",
    "\n",
    "# Plotting\n",
    "plt.contourf(xx, yy, Z, alpha=0.4)\n",
    "plt.scatter([x_1[:, 0]], [x_1[:, 1]], c='b', label='y = 0')\n",
    "plt.scatter([x_2[:, 0]], [x_2[:, 1]], c='r', label='y = 1')\n",
    "\n",
    "\n",
    "plt.xlabel(\"x1\",fontsize=15)\n",
    "plt.ylabel(\"x2\",fontsize=15)\n",
    "plt.xticks(fontsize=14)\n",
    "plt.yticks(fontsize=14)\n",
    "plt.show()"
   ]
  },
  {
   "cell_type": "markdown",
   "id": "finished-recommendation",
   "metadata": {},
   "source": [
    "predicting the outcome variable (y) of the test data points:"
   ]
  },
  {
   "cell_type": "code",
   "execution_count": null,
   "id": "natural-level",
   "metadata": {},
   "outputs": [],
   "source": [
    "y_pred = model.predict(X_test)\n",
    "print('actual labels of the test samples:%s'%y_test)\n",
    "print('predicted labels for the test samples:%s'%y_pred)"
   ]
  },
  {
   "cell_type": "markdown",
   "id": "assumed-cream",
   "metadata": {},
   "source": [
    "calculating the accuracy and AUC of our model on test set:"
   ]
  },
  {
   "cell_type": "code",
   "execution_count": null,
   "id": "induced-calculation",
   "metadata": {},
   "outputs": [],
   "source": [
    "acc = accuracy_score(y_test, y_pred)\n",
    "\n",
    "s = model.decision_function(X_test)\n",
    "auc = roc_auc_score(y_test, s)\n",
    "\n",
    "print('test accuracy:{}'.format(acc), 'test AUC :{}'.format(auc))"
   ]
  },
  {
   "cell_type": "markdown",
   "id": "monetary-tracy",
   "metadata": {},
   "source": [
    "The accuracy is 90% which means the model is nearly perfect and 9 out of 10 times it is correctly predicting the outcome variable."
   ]
  },
  {
   "cell_type": "code",
   "execution_count": null,
   "id": "monthly-worship",
   "metadata": {},
   "outputs": [],
   "source": [
    "plot_roc_curve(model, X_test, y_test)\n",
    "plt.show()"
   ]
  }
 ],
 "metadata": {
  "kernelspec": {
   "display_name": "Python 3",
   "language": "python",
   "name": "python3"
  },
  "language_info": {
   "codemirror_mode": {
    "name": "ipython",
    "version": 3
   },
   "file_extension": ".py",
   "mimetype": "text/x-python",
   "name": "python",
   "nbconvert_exporter": "python",
   "pygments_lexer": "ipython3",
   "version": "3.6.12"
  }
 },
 "nbformat": 4,
 "nbformat_minor": 5
}
