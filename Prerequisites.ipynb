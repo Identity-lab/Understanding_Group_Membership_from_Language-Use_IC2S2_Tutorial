{
 "cells": [
  {
   "cell_type": "markdown",
   "id": "victorian-validation",
   "metadata": {},
   "source": [
    "All three tutorials are jupyter notebooks, and therefore in order to be able to run the code, you have to install that beforehand.\n",
    "<br>\n",
    "\n",
    "Follow the instructions here https://jupyter.org/install to install jupyter notebook. If you are a Windows user, you can also follow the instructions here https://www.geeksforgeeks.org/how-to-install-jupyter-notebook-in-windows/ (Using Anaconda is recommended).\n",
    "\n",
    "\n",
    "\n",
    "Now you have jupyter notebook installed, run it and open this file. The goal of this part is to familiarize you with some basic Python syntax. Please note that we would not teach Python in our live tutorials and we assume that everyone has a basic knowledge of python. \n",
    "\n",
    "Here we would go through some of the most common python instructions we would use in our live tutorials.\n"
   ]
  },
  {
   "cell_type": "markdown",
   "id": "coordinated-antibody",
   "metadata": {},
   "source": [
    "###### what is python library?\n",
    "\n",
    "Python library is a collection of modules that allows you to perform lots of actions without writing your own code. For example, when you are working with data, numpy, scipy, pandas, etc. are the most commonly used libraries that facilitates functions such as reading data from file, performing various operations on data, ..\n",
    "\n",
    "\n",
    "###### Pandas\n",
    "Before using a library module, we have to 'import' it to our python program. For example, here we import 'pandas' module which is for data manipulation and analysis."
   ]
  },
  {
   "cell_type": "code",
   "execution_count": 1,
   "id": "accessible-private",
   "metadata": {},
   "outputs": [],
   "source": [
    "import pandas as pd"
   ]
  },
  {
   "cell_type": "markdown",
   "id": "australian-context",
   "metadata": {},
   "source": [
    "here, we use it to read data files by passing the address of the file, which is called dataframe:"
   ]
  },
  {
   "cell_type": "code",
   "execution_count": 2,
   "id": "roman-penalty",
   "metadata": {},
   "outputs": [],
   "source": [
    "df = pd.read_csv('./preprocessing/sample_raw_data/sample.csv')"
   ]
  },
  {
   "cell_type": "markdown",
   "id": "trying-geography",
   "metadata": {},
   "source": [
    "let's take a look at the dataframe df by showing its first 10 rows:"
   ]
  },
  {
   "cell_type": "code",
   "execution_count": 3,
   "id": "meaningful-federal",
   "metadata": {},
   "outputs": [
    {
     "data": {
      "text/html": [
       "<div>\n",
       "<style scoped>\n",
       "    .dataframe tbody tr th:only-of-type {\n",
       "        vertical-align: middle;\n",
       "    }\n",
       "\n",
       "    .dataframe tbody tr th {\n",
       "        vertical-align: top;\n",
       "    }\n",
       "\n",
       "    .dataframe thead th {\n",
       "        text-align: right;\n",
       "    }\n",
       "</style>\n",
       "<table border=\"1\" class=\"dataframe\">\n",
       "  <thead>\n",
       "    <tr style=\"text-align: right;\">\n",
       "      <th></th>\n",
       "      <th>id</th>\n",
       "      <th>author</th>\n",
       "      <th>body</th>\n",
       "    </tr>\n",
       "  </thead>\n",
       "  <tbody>\n",
       "    <tr>\n",
       "      <th>0</th>\n",
       "      <td>1</td>\n",
       "      <td>author1</td>\n",
       "      <td>So we beat on, boats against the current, born...</td>\n",
       "    </tr>\n",
       "    <tr>\n",
       "      <th>1</th>\n",
       "      <td>2</td>\n",
       "      <td>author1</td>\n",
       "      <td>He turned out the light and went into Jem's ro...</td>\n",
       "    </tr>\n",
       "    <tr>\n",
       "      <th>2</th>\n",
       "      <td>3</td>\n",
       "      <td>author1</td>\n",
       "      <td>The eyes and faces all turned themselves towar...</td>\n",
       "    </tr>\n",
       "    <tr>\n",
       "      <th>3</th>\n",
       "      <td>4</td>\n",
       "      <td>author2</td>\n",
       "      <td>The creatures outside looked from pig to man, ...</td>\n",
       "    </tr>\n",
       "    <tr>\n",
       "      <th>4</th>\n",
       "      <td>5</td>\n",
       "      <td>author2</td>\n",
       "      <td>Very few castaways can claim to have survived ...</td>\n",
       "    </tr>\n",
       "    <tr>\n",
       "      <th>5</th>\n",
       "      <td>6</td>\n",
       "      <td>author2</td>\n",
       "      <td>But wherever they go, and whatever happens to ...</td>\n",
       "    </tr>\n",
       "    <tr>\n",
       "      <th>6</th>\n",
       "      <td>7</td>\n",
       "      <td>author2</td>\n",
       "      <td>Whatever our struggles and triumphs, however w...</td>\n",
       "    </tr>\n",
       "    <tr>\n",
       "      <th>7</th>\n",
       "      <td>8</td>\n",
       "      <td>author2</td>\n",
       "      <td>Message deleted</td>\n",
       "    </tr>\n",
       "    <tr>\n",
       "      <th>8</th>\n",
       "      <td>9</td>\n",
       "      <td>author3</td>\n",
       "      <td>Message withdrawn at poster's request.</td>\n",
       "    </tr>\n",
       "    <tr>\n",
       "      <th>9</th>\n",
       "      <td>10</td>\n",
       "      <td>[deleted]</td>\n",
       "      <td>In the meantime, she would just live.</td>\n",
       "    </tr>\n",
       "  </tbody>\n",
       "</table>\n",
       "</div>"
      ],
      "text/plain": [
       "   id     author                                               body\n",
       "0   1    author1  So we beat on, boats against the current, born...\n",
       "1   2    author1  He turned out the light and went into Jem's ro...\n",
       "2   3    author1  The eyes and faces all turned themselves towar...\n",
       "3   4    author2  The creatures outside looked from pig to man, ...\n",
       "4   5    author2  Very few castaways can claim to have survived ...\n",
       "5   6    author2  But wherever they go, and whatever happens to ...\n",
       "6   7    author2  Whatever our struggles and triumphs, however w...\n",
       "7   8    author2                                    Message deleted\n",
       "8   9    author3             Message withdrawn at poster's request.\n",
       "9  10  [deleted]              In the meantime, she would just live."
      ]
     },
     "execution_count": 3,
     "metadata": {},
     "output_type": "execute_result"
    }
   ],
   "source": [
    "df.head(10)"
   ]
  },
  {
   "cell_type": "markdown",
   "id": "periodic-mortgage",
   "metadata": {},
   "source": [
    "print shape of the dataframe and its list of features:"
   ]
  },
  {
   "cell_type": "code",
   "execution_count": 4,
   "id": "third-taiwan",
   "metadata": {},
   "outputs": [
    {
     "name": "stdout",
     "output_type": "stream",
     "text": [
      "(11, 3)\n",
      "['id', 'author', 'body']\n"
     ]
    }
   ],
   "source": [
    "print(df.shape)\n",
    "print(list(df))\n"
   ]
  },
  {
   "cell_type": "markdown",
   "id": "weekly-provision",
   "metadata": {},
   "source": [
    "selecting a specific column of our dataframe:"
   ]
  },
  {
   "cell_type": "code",
   "execution_count": 5,
   "id": "perceived-energy",
   "metadata": {},
   "outputs": [
    {
     "data": {
      "text/plain": [
       "0     So we beat on, boats against the current, born...\n",
       "1     He turned out the light and went into Jem's ro...\n",
       "2     The eyes and faces all turned themselves towar...\n",
       "3     The creatures outside looked from pig to man, ...\n",
       "4     Very few castaways can claim to have survived ...\n",
       "5     But wherever they go, and whatever happens to ...\n",
       "6     Whatever our struggles and triumphs, however w...\n",
       "7                                       Message deleted\n",
       "8                Message withdrawn at poster's request.\n",
       "9                 In the meantime, she would just live.\n",
       "10                                He loved Big Brother.\n",
       "Name: body, dtype: object"
      ]
     },
     "execution_count": 5,
     "metadata": {},
     "output_type": "execute_result"
    }
   ],
   "source": [
    "df['body']"
   ]
  },
  {
   "cell_type": "markdown",
   "id": "disciplinary-patrol",
   "metadata": {},
   "source": [
    "<br>\n",
    "\n",
    "###### some basic operations\n",
    "\n",
    "here we go thorugh some of the basic python operations, such as loop , and if else statement.\n",
    "\n",
    "<br>\n",
    "The for loop in Python is used to iterate over a sequence (list, tuple, string) or other iterable objects."
   ]
  },
  {
   "cell_type": "code",
   "execution_count": 6,
   "id": "thorough-berry",
   "metadata": {},
   "outputs": [
    {
     "name": "stdout",
     "output_type": "stream",
     "text": [
      "1\n",
      "4\n",
      "7\n",
      "3\n",
      "2\n"
     ]
    }
   ],
   "source": [
    "slist = [1, 4, 7, 3, 2]\n",
    "for item in slist:\n",
    "    print(item)"
   ]
  },
  {
   "cell_type": "markdown",
   "id": "integral-settlement",
   "metadata": {},
   "source": [
    "An if else Python statement evaluates whether an expression is true or false. If a condition is true, the “if” statement executes. Otherwise, the “else” statement executes:"
   ]
  },
  {
   "cell_type": "code",
   "execution_count": 7,
   "id": "impressed-yield",
   "metadata": {},
   "outputs": [
    {
     "name": "stdout",
     "output_type": "stream",
     "text": [
      "Failed\n",
      "4\n",
      "7\n",
      "Failed\n",
      "Failed\n"
     ]
    }
   ],
   "source": [
    "for item in slist:\n",
    "    if item > 3:\n",
    "        print(item)\n",
    "    else:\n",
    "        print('Failed')"
   ]
  },
  {
   "cell_type": "markdown",
   "id": "random-gazette",
   "metadata": {},
   "source": [
    "<br>\n",
    "\n",
    "###### function\n",
    "A function is a block of code that is used to perform a single or several actions. It only runs when it is called. You can pass data, known as parameters, into a function.\n",
    "\n",
    "For example, here we define a function to print the 'body' of each row of our dataframe:"
   ]
  },
  {
   "cell_type": "code",
   "execution_count": 8,
   "id": "resistant-wrestling",
   "metadata": {},
   "outputs": [],
   "source": [
    "def printbody(df):\n",
    "    for i, row in df.iterrows():\n",
    "        print(row['body'])"
   ]
  },
  {
   "cell_type": "code",
   "execution_count": 9,
   "id": "located-windsor",
   "metadata": {},
   "outputs": [
    {
     "name": "stdout",
     "output_type": "stream",
     "text": [
      "So we beat on, boats against the current, borne back ceaselessly into the past\n",
      "He turned out the light and went into Jem's room. He would be there all night, and he would be there when Jem waked up in the morning\n",
      "The eyes and faces all turned themselves towards me, and guiding myself by them, as by a magical thread, I stepped into the room\n",
      "The creatures outside looked from pig to man, and from man to pig, and from pig to man again; but already it was impossible to say which was which.\n",
      "Very few castaways can claim to have survived so long at sea as Mr. Patel, and none in the company of an adult Bengal tiger.\n",
      "But wherever they go, and whatever happens to them on the way, in that enchanted place on the top of the Forest a little boy and his Bear will always be playing.\n",
      "Whatever our struggles and triumphs, however we may suffer them, all too soon they bleed into a wash, just like watery ink on paper.\n",
      "Message deleted\n",
      "Message withdrawn at poster's request.\n",
      "In the meantime, she would just live.\n",
      "He loved Big Brother.\n"
     ]
    }
   ],
   "source": [
    "printbody(df)"
   ]
  }
 ],
 "metadata": {
  "kernelspec": {
   "display_name": "Python 3",
   "language": "python",
   "name": "python3"
  },
  "language_info": {
   "codemirror_mode": {
    "name": "ipython",
    "version": 3
   },
   "file_extension": ".py",
   "mimetype": "text/x-python",
   "name": "python",
   "nbconvert_exporter": "python",
   "pygments_lexer": "ipython3",
   "version": "3.6.12"
  }
 },
 "nbformat": 4,
 "nbformat_minor": 5
}
