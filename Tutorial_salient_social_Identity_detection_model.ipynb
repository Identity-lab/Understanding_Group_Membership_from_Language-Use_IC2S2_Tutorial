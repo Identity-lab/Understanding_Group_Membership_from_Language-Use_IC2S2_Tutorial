{
 "cells": [
  {
   "cell_type": "markdown",
   "id": "minimal-antarctica",
   "metadata": {},
   "source": [
    "\n",
    "## Introduction\n",
    "\n",
    "\n",
    "This is the python implementation of the paper \"ASIA: Automated Social Identity Assessment using linguistic style\".\n",
    "\n",
    "This tutorial is aimed at readers who have a basic familiarity with Python. You can find the original version of this tutorial at https://github.com/Identity-lab/Tutorial-on-salient-social-Identity-detection-model.\n",
    "<br>\n",
    "<br>\n",
    "<br>\n",
    "\n",
    "\n",
    "\n",
    "In order to run the code, first you need to\n",
    "\n",
    "- download the datasets (Mumsnet_feminist_parent.csv, Reddit_feminist_parent.csv)\n",
    "- copy the datasets in a folder named data\n",
    "\n",
    "<br>\n",
    "\n",
    "\n",
    "\n",
    "Each of these csv files contains posts from both parent and feminist forums. \n",
    "\n",
    "\n",
    "<br>\n",
    "<br>\n",
    "\n",
    "\n",
    "## Reading the datasets"
   ]
  },
  {
   "cell_type": "code",
   "execution_count": 1,
   "id": "nominated-lightning",
   "metadata": {},
   "outputs": [],
   "source": [
    "# path to data\n",
    "DBDIR = './data/'\n",
    "# path to where the model would be saved\n",
    "SAVEDIR = './save_dir'\n",
    "\n",
    "# datasets\n",
    "Mumsnet_DB = 'Mumsnet_feminist_parent.csv'\n",
    "\n",
    "# all LIWC stylistic features\n",
    "ALL_STYLISTIC_FEATURES = ['WPS', 'i', 'we', 'you', 'shehe', 'they', 'ipron','article', 'auxverb', 'past',\n",
    "                    'present', 'future', 'adverb', 'preps','conj', 'quant', 'number', 'time', 'Sixltr',\n",
    "                    'Period', 'Colon', 'SemiC', 'QMark', 'Dash', 'Quote', 'Apostro', 'Parenth', 'OtherP',\n",
    "                    'negate', 'swear', 'posemo','negemo', 'assent', 'nonfl', 'filler', 'Exclam', 'insight',\n",
    "                    'cause', 'discrep', 'tentat', 'certain', 'inhib', 'incl', 'excl']"
   ]
  },
  {
   "cell_type": "markdown",
   "id": "technical-gilbert",
   "metadata": {},
   "source": [
    "Here we considered all the stylistic LIWC features for training our identity detection model, however, any subset of these features can be considered. \n",
    "\n",
    "\n",
    "<br>\n",
    "\n",
    "First, we read our dataset:\n"
   ]
  },
  {
   "cell_type": "code",
   "execution_count": 4,
   "id": "exposed-beaver",
   "metadata": {},
   "outputs": [],
   "source": [
    "import numpy as np\n",
    "import os\n",
    "import pandas as pd\n",
    "from sklearn.preprocessing import StandardScaler\n",
    "\n",
    "\n",
    "def read_csv(path):\n",
    "    try:\n",
    "        df = pd.read_csv(path)\n",
    "    except:\n",
    "        print('error in reading file')\n",
    "        raise\n",
    "    return df\n",
    "\n"
   ]
  },
  {
   "cell_type": "code",
   "execution_count": 6,
   "id": "civilian-mason",
   "metadata": {},
   "outputs": [
    {
     "name": "stdout",
     "output_type": "stream",
     "text": [
      "mumsnet features:['msg_id', 'user_id', 'forum_id', 'WC', 'WPS', 'Sixltr', 'Dic', 'funct', 'pronoun', 'ppron', 'i', 'we', 'you', 'shehe', 'they', 'ipron', 'article', 'verb', 'auxverb', 'past', 'present', 'future', 'adverb', 'preps', 'conj', 'negate', 'quant', 'number', 'swear', 'social', 'family', 'friend', 'humans', 'affect', 'posemo', 'negemo', 'anx', 'anger', 'sad', 'cogmech', 'insight', 'cause', 'discrep', 'tentat', 'certain', 'inhib', 'incl', 'excl', 'percept', 'see', 'hear', 'feel', 'bio', 'body', 'health', 'sexual', 'ingest', 'relativ', 'motion', 'space', 'time', 'work', 'achieve', 'leisure', 'home', 'money', 'relig', 'death', 'assent', 'nonfl', 'filler', 'dummy', 'Period', 'Comma', 'Colon', 'SemiC', 'QMark', 'Exclam', 'Dash', 'Quote', 'Apostro', 'Parenth', 'OtherP', 'AllPct']\n",
      "(622350, 84)\n"
     ]
    }
   ],
   "source": [
    "mumsnet_df = read_csv(DBDIR + Mumsnet_DB)\n",
    "print('mumsnet features:%s'%list(mumsnet_df))\n",
    "print(mumsnet_df.shape)"
   ]
  },
  {
   "cell_type": "markdown",
   "id": "binary-lightning",
   "metadata": {},
   "source": [
    "Then, we filter the short posts (posts with less than a specific word numbers) - this step is optional.\n"
   ]
  },
  {
   "cell_type": "code",
   "execution_count": 7,
   "id": "differential-parameter",
   "metadata": {},
   "outputs": [],
   "source": [
    "def preprocessing(df, min_WC):\n",
    "    df = df.dropna()\n",
    "    df = df.loc[df['WC'] >= min_WC]\n",
    "    return df"
   ]
  },
  {
   "cell_type": "code",
   "execution_count": 8,
   "id": "false-civilization",
   "metadata": {},
   "outputs": [
    {
     "name": "stdout",
     "output_type": "stream",
     "text": [
      "(461371, 84)\n"
     ]
    }
   ],
   "source": [
    "min_WC = 25\n",
    "\n",
    "mumsnet_df = preprocessing(mumsnet_df, min_WC)\n",
    "print(mumsnet_df.shape)\n"
   ]
  },
  {
   "cell_type": "markdown",
   "id": "connected-duncan",
   "metadata": {},
   "source": [
    "### Buiding the train set and the test set\n",
    "\n",
    "We train our model on posts from mumsnet data, and later on, we would apply our trained model on data from Reddit.\n",
    "\n",
    "<br>\n",
    "\n",
    "So, let's first build the train and test sets from mumsnet data. \n",
    "- The training set containes 100,000 posts randomly drawn from muments data, 50,000 posts from each forums, feminist and parent. We call that between samples. \n",
    "- Test set on the other hand, contains posts written by those who are contributing in both forums (one per each forum), we call that within samples. \n",
    "\n",
    "<br>\n",
    "\n",
    "For this, we first need to separate individuals who are posting in both forums from those who are contributing only in one of the forums (we call them between and within participants).\n",
    "\n"
   ]
  },
  {
   "cell_type": "code",
   "execution_count": 9,
   "id": "adapted-proxy",
   "metadata": {},
   "outputs": [],
   "source": [
    "def separating_users(df):\n",
    "    fem_df = df.loc[df.forum_id == 1]\n",
    "    par_df = df.loc[df.forum_id == 0]\n",
    "    \n",
    "    # participants who are posting in both forums\n",
    "    within_p = set(fem_df.user_id.unique()).intersection(par_df.user_id.unique())\n",
    "    # participants who are posting only in one forum, parent or feminist\n",
    "    between_p = df[~df.user_id.isin(within_p)].user_id.unique()\n",
    "\n",
    "    return between_p, within_p"
   ]
  },
  {
   "cell_type": "code",
   "execution_count": 10,
   "id": "identical-implement",
   "metadata": {},
   "outputs": [
    {
     "name": "stdout",
     "output_type": "stream",
     "text": [
      "number of between participants:15698\n",
      "number of within participants:2333\n"
     ]
    }
   ],
   "source": [
    "between_p, within_p = separating_users(mumsnet_df)\n",
    "print('number of between participants:%s'%len(between_p))\n",
    "print('number of within participants:%s'%len(within_p))"
   ]
  },
  {
   "cell_type": "markdown",
   "id": "occasional-tattoo",
   "metadata": {},
   "source": [
    "<br>\n",
    "Well, as it is mentioned, we extract the training set from all the posts, 50000 from each forums:"
   ]
  },
  {
   "cell_type": "code",
   "execution_count": 11,
   "id": "reasonable-lancaster",
   "metadata": {},
   "outputs": [],
   "source": [
    "def get_train_set(df, batch_size):\n",
    "    # shuffle the rows\n",
    "    df = df.sample(frac=1)\n",
    "\n",
    "    # buiding train set by randomly selecting posts from feminist and parent forums\n",
    "    posts_fem = df[df['forum_id'] == 1][:batch_size]\n",
    "    posts_par = df[df['forum_id'] == 0][:batch_size]\n",
    "    \n",
    "    trainDB = pd.concat([posts_fem, posts_par])\n",
    "    \n",
    "    return trainDB"
   ]
  },
  {
   "cell_type": "code",
   "execution_count": 12,
   "id": "polish-witness",
   "metadata": {},
   "outputs": [
    {
     "name": "stdout",
     "output_type": "stream",
     "text": [
      "\n",
      "train set size:100000\n"
     ]
    }
   ],
   "source": [
    "trainDB = get_train_set(mumsnet_df, batch_size=50000)\n",
    "print('\\ntrain set size:{}'.format(trainDB.shape[0]))"
   ]
  },
  {
   "cell_type": "markdown",
   "id": "driving-peripheral",
   "metadata": {},
   "source": [
    "<br>\n",
    "Test posts then would be sampled from within posts, but from those within participants whose their posts are not among the training posts:"
   ]
  },
  {
   "cell_type": "code",
   "execution_count": 13,
   "id": "composed-kansas",
   "metadata": {},
   "outputs": [
    {
     "data": {
      "text/plain": [
       "(361371, 84)"
      ]
     },
     "execution_count": 13,
     "metadata": {},
     "output_type": "execute_result"
    }
   ],
   "source": [
    "mumsnet_df_rest = mumsnet_df.loc[~mumsnet_df.msg_id.isin(trainDB.msg_id)].copy(deep=True)\n",
    "mumsnet_df_rest.shape"
   ]
  },
  {
   "cell_type": "code",
   "execution_count": 14,
   "id": "covered-animation",
   "metadata": {},
   "outputs": [
    {
     "name": "stdout",
     "output_type": "stream",
     "text": [
      "remaining number of between participants:14514\n",
      "remaining number of within participants:1961\n"
     ]
    }
   ],
   "source": [
    "between_p, within_p = separating_users(mumsnet_df_rest)\n",
    "print('remaining number of between participants:%s'%len(between_p))\n",
    "print('remaining number of within participants:%s'%len(within_p))"
   ]
  },
  {
   "cell_type": "code",
   "execution_count": 15,
   "id": "engaged-pharmacy",
   "metadata": {},
   "outputs": [
    {
     "data": {
      "text/plain": [
       "(104154, 84)"
      ]
     },
     "execution_count": 15,
     "metadata": {},
     "output_type": "execute_result"
    }
   ],
   "source": [
    "within_posts = mumsnet_df_rest.loc[mumsnet_df_rest.user_id.isin(within_p)]\n",
    "within_posts.shape"
   ]
  },
  {
   "cell_type": "markdown",
   "id": "compliant-organ",
   "metadata": {},
   "source": [
    "<br>\n",
    "Now we have the within posts, we randomly select one post per forum from each within participant:"
   ]
  },
  {
   "cell_type": "code",
   "execution_count": 16,
   "id": "english-reunion",
   "metadata": {},
   "outputs": [],
   "source": [
    "def extract_testcases(posts_within, no=None):\n",
    "    # randomly selecting one post per forum for each within participant\n",
    "    testDB = posts_within.sample(frac=1)\n",
    "    testDB = testDB.drop_duplicates(subset=['user_id', 'forum_id'])\n",
    "\n",
    "    # if there is a limit on the number of test cases, we extract the test cases from \n",
    "    # no randomly choosen within participants\n",
    "    if no is not None:\n",
    "        within_participants = posts_within.user_id.unique()\n",
    "        testUsers = np.random.choice(within_participants, no, replace=False)\n",
    "        testDB = testDB.loc[testDB['user_id'].isin(testUsers)]\n",
    "\n",
    "    return testDB"
   ]
  },
  {
   "cell_type": "code",
   "execution_count": 17,
   "id": "destroyed-color",
   "metadata": {},
   "outputs": [
    {
     "data": {
      "text/plain": [
       "(3922, 84)"
      ]
     },
     "execution_count": 17,
     "metadata": {},
     "output_type": "execute_result"
    }
   ],
   "source": [
    "testDB = extract_testcases(within_posts)\n",
    "testDB.shape"
   ]
  },
  {
   "cell_type": "markdown",
   "id": "turned-latter",
   "metadata": {},
   "source": [
    "\n",
    "<br>\n",
    "\n",
    "## Training our model\n",
    "\n",
    "\n",
    "\n",
    "Here we apply Logistic regression for training our model. If grid_search is true, best parameter would be chosen for the model, but it takes longer to train the model. "
   ]
  },
  {
   "cell_type": "code",
   "execution_count": 19,
   "id": "perfect-weekly",
   "metadata": {},
   "outputs": [],
   "source": [
    "from sklearn.linear_model import LogisticRegression\n",
    "from sklearn.model_selection import GridSearchCV\n",
    "from sklearn.model_selection import cross_val_score\n",
    "from sklearn.metrics import roc_auc_score, accuracy_score\n",
    "import joblib\n",
    "\n",
    "\n",
    "def Logistic_Regression(grid_search=False):\n",
    "    # to add the regularization, you can set penalty=‘l1’ or penalty=‘l2’ (depending on the solver).\n",
    "    model = LogisticRegression(solver='lbfgs', max_iter = 2000, penalty='l2')\n",
    "    \n",
    "    \n",
    "    if grid_search:\n",
    "        tuned_parameters = [{'C': [1e-3, 1e-2, 1e-1, 1]}]\n",
    "        model = GridSearchCV(LogisticRegression(solver='lbfgs'), tuned_parameters, cv=10,\n",
    "                           scoring='accuracy', n_jobs=-1)\n",
    "\n",
    "    return model\n",
    "\n",
    "\n",
    "def train(X_train, y_train, cross_val=True, save_dir=SAVEDIR):\n",
    "    \n",
    "    \n",
    "    model = Logistic_Regression()\n",
    "\n",
    "    # training accuracy and AUC\n",
    "    tr_auc, tr_acc = None, None\n",
    "    if cross_val:\n",
    "        tr_auc = np.mean(cross_val_score(model, X_train, y_train, cv=10, scoring='roc_auc'))\n",
    "        tr_acc = np.mean(cross_val_score(model, X_train, y_train, cv=10, scoring='accuracy'))\n",
    "        \n",
    "        print('training accuracy:{}'.format(tr_acc), 'training AUC :{}'.format(tr_auc))\n",
    "\n",
    "    model.fit(X_train, y_train)\n",
    "\n",
    "    joblib.dump(model, save_dir+'/logr.sav')\n",
    "\n",
    "    print('\\n our model is trained and saved in %s'%save_dir+'/logr.sav')\n",
    "\n",
    "    return model, tr_auc, tr_acc"
   ]
  },
  {
   "cell_type": "code",
   "execution_count": 20,
   "id": "imported-briefing",
   "metadata": {},
   "outputs": [],
   "source": [
    "X_train, y_train = trainDB[ALL_STYLISTIC_FEATURES], trainDB['forum_id']"
   ]
  },
  {
   "cell_type": "code",
   "execution_count": 21,
   "id": "coral-yorkshire",
   "metadata": {},
   "outputs": [
    {
     "name": "stdout",
     "output_type": "stream",
     "text": [
      "training accuracy:0.84831 training AUC :0.915402756\n",
      "\n",
      " our model is trained and saved in ./save_dir/logr.sav\n"
     ]
    }
   ],
   "source": [
    "model, tr_auc, tr_acc = train(X_train, y_train, cross_val=False, save_dir=SAVEDIR)\n"
   ]
  },
  {
   "cell_type": "markdown",
   "id": "missing-julian",
   "metadata": {},
   "source": [
    "\n",
    "<br>\n",
    "\n",
    "## Testing our model\n",
    "\n",
    "\n",
    "\n",
    "Via cross validation we get an estimate of how well our model is performing when it comes to the between posts.Now, in order to do the proper test, we apply ourtrained model on the within posts:"
   ]
  },
  {
   "cell_type": "code",
   "execution_count": 22,
   "id": "caroline-employment",
   "metadata": {},
   "outputs": [],
   "source": [
    "def test(model, X_test, y_test):\n",
    "    y_pred = model.predict(X_test)\n",
    "    ts_acc = accuracy_score(y_test, y_pred)\n",
    "\n",
    "    s = model.decision_function(X_test)\n",
    "    ts_auc = roc_auc_score(y_test, s)\n",
    "\n",
    "    print('test accuracy:{}'.format(ts_acc), 'test AUC :{}'.format(ts_auc))\n",
    "    \n"
   ]
  },
  {
   "cell_type": "code",
   "execution_count": 23,
   "id": "metropolitan-sweet",
   "metadata": {},
   "outputs": [],
   "source": [
    "X_test, y_test = testDB[ALL_STYLISTIC_FEATURES], testDB['forum_id']"
   ]
  },
  {
   "cell_type": "code",
   "execution_count": 24,
   "id": "together-clock",
   "metadata": {},
   "outputs": [
    {
     "name": "stdout",
     "output_type": "stream",
     "text": [
      "test accuracy:0.6922488526262112 test AUC :0.7520913291072913\n"
     ]
    }
   ],
   "source": [
    "test(model, X_test, y_test)"
   ]
  },
  {
   "cell_type": "markdown",
   "id": "japanese-modification",
   "metadata": {},
   "source": [
    "\n",
    "<br>\n",
    "\n",
    "Now we know how accurate our model is, let's get a little bit deeper into the results:\n"
   ]
  },
  {
   "cell_type": "code",
   "execution_count": 25,
   "id": "agricultural-diana",
   "metadata": {},
   "outputs": [
    {
     "name": "stdout",
     "output_type": "stream",
     "text": [
      "Out of 1961 test samples from parent forum, 1261 have been correctly predicted as parent post, \n",
      "and 700 have been falsely predicted as feminist post.\n",
      "\n",
      "Out of 1961 test samples from feminist forum, 1454 have been correctly predicted as feminist post, \n",
      "and 507 have been falsely predicted as parent post.\n"
     ]
    }
   ],
   "source": [
    "from sklearn.metrics import confusion_matrix\n",
    "from sklearn.metrics import plot_confusion_matrix\n",
    "from sklearn.metrics import plot_roc_curve\n",
    "import matplotlib.pyplot as plt \n",
    "\n",
    "predict_abs = model.predict(X_test)\n",
    "\n",
    "\n",
    "tn, fp, fn, tp = confusion_matrix(y_test, predict_abs).ravel()\n",
    "\n",
    "print('Out of %s test samples from parent forum, %s have been correctly predicted as parent post, \\n'\n",
    "      'and %s have been falsely predicted as feminist post.\\n'%(int(X_test.shape[0]/2), tn, fp))\n",
    "\n",
    "\n",
    "print('Out of %s test samples from feminist forum, %s have been correctly predicted as feminist post, \\n'\n",
    "      'and %s have been falsely predicted as parent post.'%(int(X_test.shape[0]/2), tp, fn))\n"
   ]
  },
  {
   "cell_type": "code",
   "execution_count": 22,
   "id": "applied-behavior",
   "metadata": {},
   "outputs": [
    {
     "data": {
      "image/png": "[encoded data removed]",
      "text/plain": [
       "<Figure size 432x288 with 2 Axes>"
      ]
     },
     "metadata": {
      "needs_background": "light"
     },
     "output_type": "display_data"
    }
   ],
   "source": [
    "plot_confusion_matrix(model, X_test, y_test) \n",
    "plt.show()\n"
   ]
  },
  {
   "cell_type": "code",
   "execution_count": 23,
   "id": "impressive-berkeley",
   "metadata": {},
   "outputs": [
    {
     "name": "stdout",
     "output_type": "stream",
     "text": [
      "false positive error rate - rate of predicting a parent post as a feminist post: 0.34637159032424086\n",
      "false negative error rate - rate of predicting a feminist post as a parent post: 0.2465259907359753\n"
     ]
    }
   ],
   "source": [
    "print('false positive error rate - rate of predicting a parent post as a feminist post:', fp / (fp + tn))\n",
    "print('false negative error rate - rate of predicting a feminist post as a parent post:', fn / (fn + tp))"
   ]
  },
  {
   "cell_type": "code",
   "execution_count": 26,
   "id": "crude-margin",
   "metadata": {},
   "outputs": [
    {
     "data": {
      "image/png": "[encoded data removed]",
      "text/plain": [
       "<Figure size 432x288 with 1 Axes>"
      ]
     },
     "metadata": {
      "needs_background": "light"
     },
     "output_type": "display_data"
    }
   ],
   "source": [
    "plot_roc_curve(model, X_test, y_test)\n",
    "plt.show()\n"
   ]
  },
  {
   "cell_type": "markdown",
   "id": "ready-bathroom",
   "metadata": {},
   "source": [
    "<br>\n",
    "\n",
    "### What does that mean?"
   ]
  },
  {
   "cell_type": "code",
   "execution_count": 27,
   "id": "unauthorized-joseph",
   "metadata": {},
   "outputs": [],
   "source": [
    "coefficients = dict(list(zip(ALL_STYLISTIC_FEATURES, model.coef_[0])))"
   ]
  },
  {
   "cell_type": "code",
   "execution_count": 26,
   "id": "electrical-slovakia",
   "metadata": {},
   "outputs": [
    {
     "data": {
      "text/plain": [
       "{'WPS': -0.0014058447286483314,\n",
       " 'i': 0.022067618957219235,\n",
       " 'we': -0.06302959121977386,\n",
       " 'you': -0.042157089935516014,\n",
       " 'shehe': -0.11395341229718954,\n",
       " 'they': 0.17792374113235637,\n",
       " 'ipron': 0.17454144347784512,\n",
       " 'article': 0.1145123056175375,\n",
       " 'auxverb': 0.057563657621676756,\n",
       " 'past': -0.05494724051779543,\n",
       " 'present': -0.06952223079311094,\n",
       " 'future': -0.09300924795556068,\n",
       " 'adverb': -0.03945879295252902,\n",
       " 'preps': 0.029760965168349023,\n",
       " 'conj': 0.03446752954219318,\n",
       " 'quant': 0.05272767790151019,\n",
       " 'number': 0.03539637933260117,\n",
       " 'time': -0.22860832361476902,\n",
       " 'Sixltr': 0.14527561515648704,\n",
       " 'Period': -0.016346919445075568,\n",
       " 'Colon': 0.018198784558206907,\n",
       " 'SemiC': 0.03344789777478542,\n",
       " 'QMark': -0.022651548788606608,\n",
       " 'Dash': 0.001338846071622425,\n",
       " 'Quote': 0.299385565445758,\n",
       " 'Apostro': 0.012951816591063557,\n",
       " 'Parenth': -0.008250319017476028,\n",
       " 'OtherP': -0.04793507382427383,\n",
       " 'negate': 0.12882764047694348,\n",
       " 'swear': 0.15963991012358675,\n",
       " 'posemo': -0.057375804138106404,\n",
       " 'negemo': 0.045280172971037924,\n",
       " 'assent': 0.04253689727126906,\n",
       " 'nonfl': -0.09938192992821725,\n",
       " 'filler': 0.07009210553493876,\n",
       " 'Exclam': -0.41156005269740964,\n",
       " 'insight': 0.15052127280862693,\n",
       " 'cause': 0.16343802940599295,\n",
       " 'discrep': 0.0574184793673695,\n",
       " 'tentat': -0.020421368597809818,\n",
       " 'certain': 0.06387291120370941,\n",
       " 'inhib': -0.05206310252148416,\n",
       " 'incl': -0.044763981216191275,\n",
       " 'excl': -0.02029097642881395}"
      ]
     },
     "execution_count": 26,
     "metadata": {},
     "output_type": "execute_result"
    }
   ],
   "source": [
    "coefficients"
   ]
  },
  {
   "cell_type": "markdown",
   "id": "religious-tongue",
   "metadata": {},
   "source": [
    "<br>\n",
    "\n",
    "Now, we want to see how important each stylistic LIWC feature is in identifying parent vs feminist identities:"
   ]
  },
  {
   "cell_type": "code",
   "execution_count": 28,
   "id": "boring-slave",
   "metadata": {},
   "outputs": [],
   "source": [
    "Xtrain_std = X_train.std(axis=0, skipna=True)\n",
    "Xtrain_std = dict(list(zip(ALL_STYLISTIC_FEATURES, Xtrain_std)))"
   ]
  },
  {
   "cell_type": "code",
   "execution_count": 29,
   "id": "forward-array",
   "metadata": {},
   "outputs": [
    {
     "data": {
      "text/plain": [
       "{'WPS': -0.03411186685056355,\n",
       " 'i': 0.0749004982369169,\n",
       " 'we': -0.06681086939942013,\n",
       " 'you': -0.10241697645119423,\n",
       " 'shehe': -0.3174927320281448,\n",
       " 'they': 0.3007729204220835,\n",
       " 'ipron': 0.5964171046876957,\n",
       " 'article': 0.3412573582004813,\n",
       " 'auxverb': 0.19470226005086874,\n",
       " 'past': -0.13148677526054808,\n",
       " 'present': -0.2545805343685937,\n",
       " 'future': -0.115835934128526,\n",
       " 'adverb': -0.10738682072109636,\n",
       " 'preps': 0.11401690522692656,\n",
       " 'conj': 0.0874185908689873,\n",
       " 'quant': 0.12479647505582733,\n",
       " 'number': 0.04770794938437476,\n",
       " 'time': -0.8703152377178023,\n",
       " 'Sixltr': 0.8604600434955954,\n",
       " 'Period': -0.06748911422946792,\n",
       " 'Colon': 0.019996062207376444,\n",
       " 'SemiC': 0.01802020307240324,\n",
       " 'QMark': -0.01645277102518044,\n",
       " 'Dash': 0.008272455723048704,\n",
       " 'Quote': 0.4683894438794663,\n",
       " 'Apostro': 0.055143738851660365,\n",
       " 'Parenth': -0.004070027870904017,\n",
       " 'OtherP': -0.08526178948917716,\n",
       " 'negate': 0.23135762925553283,\n",
       " 'swear': 0.09379575101002363,\n",
       " 'posemo': -0.1599661135708324,\n",
       " 'negemo': 0.10855743792455443,\n",
       " 'assent': 0.035926536496738395,\n",
       " 'nonfl': -0.03912687558060785,\n",
       " 'filler': 0.009914386500510453,\n",
       " 'Exclam': -1.0585721283274527,\n",
       " 'insight': 0.32611356095391775,\n",
       " 'cause': 0.27086110403415997,\n",
       " 'discrep': 0.11271903674652203,\n",
       " 'tentat': -0.026972935787778114,\n",
       " 'certain': 0.11462831031256165,\n",
       " 'inhib': -0.03399813123473428,\n",
       " 'incl': -0.11923088623929974,\n",
       " 'excl': -0.05489347070977901}"
      ]
     },
     "execution_count": 29,
     "metadata": {},
     "output_type": "execute_result"
    }
   ],
   "source": [
    "feature_importance = {feature:coefficients[feature] * Xtrain_std[feature] for feature in ALL_STYLISTIC_FEATURES}\n",
    "feature_importance"
   ]
  },
  {
   "cell_type": "code",
   "execution_count": 30,
   "id": "planned-teens",
   "metadata": {},
   "outputs": [
    {
     "data": {
      "image/png": "[encoded data removed]",
      "text/plain": [
       "<Figure size 1080x504 with 1 Axes>"
      ]
     },
     "metadata": {
      "needs_background": "light"
     },
     "output_type": "display_data"
    }
   ],
   "source": [
    "import matplotlib.lines as mlines\n",
    "\n",
    "\n",
    "plt.figure(figsize=(15, 7))\n",
    "axes = plt.gca()\n",
    "axes.set_ylim([-1.2, 1.2])\n",
    "axes.set_position([0.06, 0.1999999999999999, 0.93, 0.77])\n",
    "\n",
    "x_pos = np.arange(len(ALL_STYLISTIC_FEATURES))\n",
    "\n",
    "for x, y in list(zip(x_pos, feature_importance.values())):\n",
    "    if y > 0:\n",
    "        axes.scatter(x, y, marker='v', c='blue', s=80)\n",
    "    else:\n",
    "        axes.scatter(x, y, marker='^', c='orange', s=80)\n",
    "plt.xticks(x_pos, ALL_STYLISTIC_FEATURES)\n",
    "orange_triangle = mlines.Line2D([], [], color='orange', marker='^', linestyle='None',\n",
    "                                markersize=10, label='Feminist')\n",
    "blue_triangle = mlines.Line2D([], [], color='blue', marker='v', linestyle='None',\n",
    "                              markersize=10, label='parent')\n",
    "\n",
    "axes.legend((orange_triangle, blue_triangle), ('Parent', 'Feminist'), loc='upper left')\n",
    "\n",
    "plt.axhline(y=0.0, color='r', linestyle='--')\n",
    "\n",
    "plt.xticks(rotation=90)\n",
    "axes.tick_params(axis='x', pad=10)\n",
    "plt.yticks(rotation=90)\n",
    "for tick in axes.xaxis.get_major_ticks():\n",
    "    tick.label1.set_fontsize(15)\n",
    "    tick.label1.set_fontweight('bold')\n",
    "for tick in axes.yaxis.get_major_ticks():\n",
    "    tick.label1.set_fontsize(15)\n",
    "    tick.label1.set_fontweight('bold')\n",
    "plt.ylabel('Feature Importance', fontsize=22, labelpad=20, fontweight='bold')\n",
    "\n",
    "plt.grid(b=True, axis='x', color='gray', linestyle='-', linewidth=0.1)\n",
    "plt.savefig(SAVEDIR+'/featureimportance.png')\n",
    "plt.show()\n"
   ]
  }
 ],
 "metadata": {
  "kernelspec": {
   "display_name": "Python 3",
   "language": "python",
   "name": "python3"
  },
  "language_info": {
   "codemirror_mode": {
    "name": "ipython",
    "version": 3
   },
   "file_extension": ".py",
   "mimetype": "text/x-python",
   "name": "python",
   "nbconvert_exporter": "python",
   "pygments_lexer": "ipython3",
   "version": "3.6.12"
  }
 },
 "nbformat": 4,
 "nbformat_minor": 5
}
